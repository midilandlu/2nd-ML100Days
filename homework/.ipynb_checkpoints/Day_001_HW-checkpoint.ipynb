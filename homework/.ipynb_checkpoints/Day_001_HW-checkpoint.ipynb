{
 "cells": [
  {
   "cell_type": "markdown",
   "metadata": {},
   "source": [
    "作業1：\n",
    "\n",
    "請上 Kaggle, 在 Competitions 或 Dataset 中找一組競賽或資料並寫下：\n",
    "\n",
    "我選擇 Humpback Whale Identification - Can you identify a whale by its tail?\n",
    "https://www.kaggle.com/c/humpback-whale-identification/overview \n",
    "\n",
    "1. 你選的這組資料為何重要\n",
    "Ans - \n",
    "這組資料可以協助鯨魚保育工作的推動。\n",
    "透過鯨魚資料照片的收集與辨識，可以讓一般民眾認識鯨魚進而喜歡鯨魚，達到環境教育的目的。此外透過照片收集，可以了解鯨魚族群的種類與數量變化，協助科學家進行鯨魚族群研究，進而說服各國政府重視鯨魚保育工作。\n",
    "\n",
    "2. 資料從何而來 (tips: 譬如提供者是誰、以什麼方式蒐集)\n",
    "Ans - \n",
    "資料來自Happywhale的數據庫，提供者包含來自研究機構和公共貢獻者，在海上所拍攝的鯨魚圖像照片(超過25,000張)。\n",
    "\n",
    "3. 蒐集而來的資料型態為何\n",
    "Ans - \n",
    "資料型態為jpg圖檔，總共有6G，主要是各種鯨魚的尾巴形狀與動作。\n",
    "\n",
    "4. 這組資料想解決的問題如何評估\n",
    "Ans - \n",
    "這組資料想解決的是圖像辨識的分類問題。\n",
    "可以透過演算法來辨識鯨魚尾巴照片，辨別出該鯨魚的種類。\n",
    "所以應以『辨識鯨魚種類的準確率』進行評估\n"
   ]
  },
  {
   "cell_type": "markdown",
   "metadata": {},
   "source": [
    "作業2：\n",
    "\n",
    "想像你經營一個自由載客車隊，你希望能透過數據分析以提升業績，請你思考並描述你如何規劃整體的分析/解決方案：\n",
    "\n",
    "1. 核心問題為何 (tips：如何定義 「提升業績 & 你的假設」)\n",
    "Ans - \n",
    "假設：\n",
    "我所經營的自由載客車隊，是隨意叫車的服務，所以常有空車，在路上尋找客人的狀況(消耗汽油，造成成本提升)。\n",
    "若能降低空車等待客人的時間，『提高載客率』，就能達到提升業績的目的。\n",
    "因此希望透過資料分析，了解 人口數/年齡層分布/學校位置/上下課時間/活動或展覽地點/舉辦時間\n",
    "預測某一時間/地點為『服務熱區』\n",
    "可以前往該地區提供服務。\n",
    "\n",
    "2. 資料從何而來 (tips：哪些資料可能會對你想問的問題產生影響 & 資料如何蒐集)\n",
    "Ans -\n",
    "資料來源可以透過\n",
    "1.各區人口數 - 政府人口資料\n",
    "2.各區年齡層比例 - 政府人口資料\n",
    "3.各區各級學校位置 - 透過網路爬蟲，收集各學校公開活動資訊\n",
    "4.各區各級學校上下課時間 - 透過網路爬蟲，收集各學校公開活動資訊\n",
    "5.各地區活動/展覽舉辦地點 - 透過網路爬蟲，收集網路上公開活動資訊\n",
    "6.各地區活動/展覽舉辦時間 - 透過網路爬蟲，收集網路上公開活動資訊\n",
    "7.乘客上車時間/上車地點 - 車隊資料\n",
    "8.乘客下車時間/下車地點 - 車隊資料\n",
    "\n",
    "3. 蒐集而來的資料型態為何\n",
    "Ans -\n",
    "數值資料：人口數 / 年齡比例 \n",
    "地理資料：學校位置/ 活動/展覽舉辦地點 / 乘客上下車地點\n",
    "時間資料：學校上下課時間/ 活動/展覽舉辦時間 /乘客上下車時間\n",
    "\n",
    "4. 你要回答的問題，其如何評估 (tips：你的假設如何驗證)\n",
    "Ans - \n",
    "將資料拆分為訓練資料與測試資料\n",
    "一天分為多個時段。\n",
    "透過演算法，得到各時段的可能載客率計算式。\n",
    "用測試資料進行驗證，計算準確率。\n",
    "最後將此演算法，實際導入載客活動中，隔季計算準確率。\n"
   ]
  },
  {
   "cell_type": "markdown",
   "metadata": {},
   "source": [
    "## 練習時間\n",
    "#### 請寫一個函式用來計算 Mean Square Error\n",
    "$ MSE = \\frac{1}{n}\\sum_{i=1}^{n}{(Y_i - \\hat{Y}_i)^2} $\n",
    "\n",
    "### Hint: [如何取平方](https://googoodesign.gitbooks.io/-ezpython/unit-1.html)"
   ]
  },
  {
   "cell_type": "code",
   "execution_count": 1,
   "metadata": {},
   "outputs": [],
   "source": [
    "import numpy as np\n",
    "import matplotlib.pyplot as plt"
   ]
  },
  {
   "cell_type": "code",
   "execution_count": 2,
   "metadata": {},
   "outputs": [],
   "source": [
    "\"\"\"\n",
    "    def mean_squared_error():\n",
    "    關於 numpy Mathematical functions 可以參考以下 URL \n",
    "    https://docs.scipy.org/doc/numpy/reference/routines.math.html\n",
    "    \n",
    "    請完成這個 Function 後往下執行\n",
    "\"\"\"\n",
    "\n",
    "def mean_squared_error(y, yp):\n",
    "    mse = MSE = sum(np.square(y-yp))/len(y)\n",
    "    return mse\n",
    "\n",
    "def mean_absolute_error(y, yp):\n",
    "    \"\"\"\n",
    "    計算 MAE\n",
    "    Args:\n",
    "        - y: 實際值\n",
    "        - yp: 預測值\n",
    "    Return:\n",
    "        - mae: MAE\n",
    "    \"\"\"\n",
    "    mae = MAE = sum(abs(y - yp)) / len(y)\n",
    "    return mae\n"
   ]
  },
  {
   "cell_type": "code",
   "execution_count": 3,
   "metadata": {},
   "outputs": [
    {
     "data": {
      "image/png": "[encoded data removed]",
      "text/plain": [
       "<Figure size 432x288 with 1 Axes>"
      ]
     },
     "metadata": {
      "needs_background": "light"
     },
     "output_type": "display_data"
    }
   ],
   "source": [
    "w = 3\n",
    "b = 0.5\n",
    "\n",
    "x_lin = np.linspace(0, 100, 101)\n",
    "\n",
    "y = (x_lin + np.random.randn(101) * 5) * w + b\n",
    "\n",
    "plt.plot(x_lin, y, 'b.', label = 'data points')\n",
    "plt.title(\"Assume we have data points\")\n",
    "plt.legend(loc = 2)\n",
    "plt.show()"
   ]
  },
  {
   "cell_type": "code",
   "execution_count": 4,
   "metadata": {},
   "outputs": [
    {
     "data": {
      "image/png": "[encoded data removed]",
      "text/plain": [
       "<Figure size 432x288 with 1 Axes>"
      ]
     },
     "metadata": {
      "needs_background": "light"
     },
     "output_type": "display_data"
    }
   ],
   "source": [
    "y_hat = x_lin * w + b\n",
    "plt.plot(x_lin, y, 'b.', label = 'data')\n",
    "plt.plot(x_lin, y_hat, 'r-', label = 'prediction')\n",
    "plt.title(\"Assume we have data points (And the prediction)\")\n",
    "plt.legend(loc = 2)\n",
    "plt.show()"
   ]
  },
  {
   "cell_type": "code",
   "execution_count": 5,
   "metadata": {},
   "outputs": [
    {
     "name": "stdout",
     "output_type": "stream",
     "text": [
      "The Mean squared error is 163.653\n",
      "The Mean absolute error is 10.001\n"
     ]
    }
   ],
   "source": [
    "# 執行 Function, 確認有沒有正常執行\n",
    "MSE = mean_squared_error(y, y_hat)\n",
    "MAE = mean_absolute_error(y, y_hat)\n",
    "print(\"The Mean squared error is %.3f\" % (MSE))\n",
    "print(\"The Mean absolute error is %.3f\" % (MAE))"
   ]
  },
  {
   "cell_type": "code",
   "execution_count": null,
   "metadata": {},
   "outputs": [],
   "source": []
  }
 ],
 "metadata": {
  "anaconda-cloud": {},
  "kernelspec": {
   "display_name": "Python 3",
   "language": "python",
   "name": "python3"
  },
  "language_info": {
   "codemirror_mode": {
    "name": "ipython",
    "version": 3
   },
   "file_extension": ".py",
   "mimetype": "text/x-python",
   "name": "python",
   "nbconvert_exporter": "python",
   "pygments_lexer": "ipython3",
   "version": "3.6.8"
  }
 },
 "nbformat": 4,
 "nbformat_minor": 1
}
